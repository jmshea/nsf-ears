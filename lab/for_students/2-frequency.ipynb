{
 "cells": [
  {
   "cell_type": "markdown",
   "id": "6884f06c-f78b-405b-860f-3aa47a48f670",
   "metadata": {},
   "source": [
    "# Part 2: Defining Frequency and Visualizing Frequencies of Signals\n",
    "\n",
    "\n",
    "**Objectives:** \n",
    "* Understand frequency of a sinusoidal signal\n",
    "* Use periodogram to visualize frequency content of signals\n",
    "* Show how periodic signal can be built up by adding together sinusoids at different frequencies\n",
    "\n",
    "**Required Materials**\n",
    "* Computer speakers\n",
    "* Python audio libraries noted below\n"
   ]
  },
  {
   "cell_type": "markdown",
   "id": "fec37a6b-ec8f-46b0-8618-e3e95e20561f",
   "metadata": {},
   "source": [
    "## Loading the Necessary Libraries\n",
    "\n",
    "Run each of the cells below, until you get to the  block titled **Frequency**. In  most cases, you can run a cell and advance to the next cell by clicking on the cell and pressing shift-Enter on the keyboard. The triangular \"play\" button in the widgets bar at the top of the notebook can also be used to run a selected cell."
   ]
  },
  {
   "cell_type": "code",
   "execution_count": null,
   "id": "18543776-6399-4e83-a832-fb620193a655",
   "metadata": {},
   "outputs": [],
   "source": [
    "# These are the minimum sound libraries required. \n",
    "\n",
    "import scipy.io.wavfile as wavfile\n",
    "import sounddevice as sd"
   ]
  },
  {
   "cell_type": "code",
   "execution_count": null,
   "id": "6ff19bc3-4ebf-48d8-849a-7af150556ecc",
   "metadata": {},
   "outputs": [],
   "source": [
    "# Library for visualizing the sound recordings\n",
    "\n",
    "import matplotlib.pyplot as plt\n",
    "%matplotlib inline"
   ]
  },
  {
   "cell_type": "code",
   "execution_count": null,
   "id": "91548c4a-fc18-48f7-845c-12e2e061bc65",
   "metadata": {},
   "outputs": [],
   "source": [
    "# Helper libraries\n",
    "\n",
    "import numpy as np\n",
    "import time\n"
   ]
  },
  {
   "cell_type": "code",
   "execution_count": null,
   "id": "9a775346-2ce0-457e-97dd-b143a526168f",
   "metadata": {},
   "outputs": [],
   "source": [
    "# The code in this block loads some elements for adding interactive \n",
    "# widgets to the code\n",
    "\n",
    "from ipywidgets import interact, interactive, fixed, interact_manual\n",
    "import ipywidgets as widgets\n",
    "import IPython.display as display\n",
    "\n"
   ]
  },
  {
   "cell_type": "code",
   "execution_count": null,
   "id": "d3926d55-68dd-468a-ab15-b03528a695d1",
   "metadata": {},
   "outputs": [],
   "source": [
    "# This notebook uses a couple of new function from SciPy\n",
    "\n",
    "from scipy.signal import periodogram, butter, sosfilt"
   ]
  },
  {
   "cell_type": "markdown",
   "id": "7db3724d-bd49-4805-9772-7784c8cef144",
   "metadata": {},
   "source": [
    "## Frequency\n",
    "\n",
    "**Question 2.1: What do you think the word *frequency* means? In what contexts have you heard that term?**"
   ]
  },
  {
   "cell_type": "markdown",
   "id": "e164e02e-bae6-476f-b0d1-2add2899b419",
   "metadata": {
    "jupyter": {
     "source_hidden": true
    },
    "tags": []
   },
   "source": [
    "**Definition** The *frequency* of a sinusoid is a measure of the rate of variation. For our purposes, we will measure the frequency as the **number of cycles per second**. The unit for 'cycles/sec' is called *Hertz*. \n",
    "\n",
    "We also abbreviate Hertz as Hz, so 400 cycles/second is usually written as 400 Hz. \n",
    "\n",
    "We also use prefixes to help make the numbers easier to interpret when the frequencies get large. For instance the prefix *k* means 1000. Thus, instead of writing 10000 Hz, we generally write 10 kHz.\n",
    "\n",
    "Here is a 1 kHz (i.e., 1000 Hz) signal. The plot shows a 0.01 s window of the signal, so there are exactly $0.01 \\times 1000= 10$ cycles in the plot.\n",
    "\n",
    "Feel free to adjust the `frequency` parameter below to try out different frequencies.\n",
    "\n",
    "*Note that the `frequency` parameter was what we called `cycle_rate` in the last notebook.*"
   ]
  },
  {
   "cell_type": "code",
   "execution_count": null,
   "id": "cf716e6e-76bf-4ade-ba6d-f0d1e4947d19",
   "metadata": {
    "jupyter": {
     "source_hidden": true
    },
    "tags": []
   },
   "outputs": [],
   "source": [
    "frequency = 1000\n",
    "\n",
    "duration = 1\n",
    "rate = 44100\n",
    "\n",
    "times = np.linspace(0, 1, rate*duration )\n",
    "signal=np.sin(2*np.pi*frequency*times)\n",
    "plt.plot(times[:441], signal[:441])\n",
    "plt.xlabel('Time (s)')\n",
    "plt.ylabel('Relative sound pressure')\n",
    "plt.show();\n",
    "sd.play(signal, rate)\n"
   ]
  },
  {
   "cell_type": "markdown",
   "id": "32bfa792-b2cb-4e8f-ac08-8ca325209d41",
   "metadata": {
    "tags": []
   },
   "source": [
    "## What frequencies can you hear?\n",
    "\n",
    "Adjust the slider below to find out what frequencies that you can hear from this computer at the low end of the frequency range. \n",
    "\n",
    "**Activity 2.2:** \n",
    "1. Write down the lowest frequency that you can hear. \n",
    "1. Write down the lowest frequency that still sounds like a musical note to you."
   ]
  },
  {
   "cell_type": "code",
   "execution_count": null,
   "id": "0bb2a462-f7b1-4913-8929-f6a8ffe4267a",
   "metadata": {},
   "outputs": [],
   "source": [
    "duration = 1\n",
    "rate = 44100\n",
    "times = np.linspace(0, duration, rate*duration )\n",
    "def play_tone( cycle_rate=100):\n",
    "    duration_samples=int(cycle_rate*duration)\n",
    "    signal=10*np.sin(2*np.pi*cycle_rate*times)\n",
    "    sd.play(signal, rate)\n",
    "    return()\n",
    "interact(play_tone, cycle_rate=(2, 100, 2));\n",
    "\n",
    "\n",
    "\n"
   ]
  },
  {
   "cell_type": "markdown",
   "id": "91d91ea5-e066-46ab-b93e-6a2b88c91488",
   "metadata": {},
   "source": [
    "Now adjust the slider below to find out what frequencies you can hear from this computer at the high end of the frequency range.\n",
    "\n",
    "**Activity 2.3: Write down the highest frequency that you can hear. Compare with the other students in the lab. Compare with the lab instructor.**"
   ]
  },
  {
   "cell_type": "code",
   "execution_count": null,
   "id": "96ee2913-c054-4631-9ddd-8e4e817d1c66",
   "metadata": {},
   "outputs": [],
   "source": [
    "duration = 1\n",
    "rate = 44100\n",
    "times = np.linspace(0, duration, rate*duration )\n",
    "def play_tone( cycle_rate=10000):\n",
    "    duration_samples=int(cycle_rate*duration)\n",
    "    signal=20*np.sin(2*np.pi*cycle_rate*times)\n",
    "    sd.play(signal, rate)\n",
    "    return()\n",
    "interact(play_tone, cycle_rate=(15000, 22000, 100));\n",
    "\n",
    "\n",
    "\n"
   ]
  },
  {
   "cell_type": "markdown",
   "id": "7edffc95-3bc7-4bae-84ad-61b856186348",
   "metadata": {},
   "source": [
    "The usual reference hearing range for humans is considered to be 20 Hz to 20 kHz. Adults often have hearing loss at high frequencies and may only be able to hear up to 15 kHz to 17 kHz.\n",
    "\n"
   ]
  },
  {
   "cell_type": "markdown",
   "id": "e591fdd9-58df-4930-90f6-9cd2a3091716",
   "metadata": {},
   "source": [
    "## Visualizing Frequency Content of Signals\n",
    "\n",
    "Just as we can plot the sound pressure as a function of time for a recorded signal, we can also process a recorded signal to determine how much signal power is at each frequency.\n",
    "\n",
    "We will us a function from SciPy's signal library called `periodogram` to extract the frequency information from the signal. Let's start by loading the audio signals for Beethoven's tuning fork and the UF E tuning fork:"
   ]
  },
  {
   "cell_type": "code",
   "execution_count": null,
   "id": "f39c39cd-ef9d-4050-a40c-27a2adc007aa",
   "metadata": {},
   "outputs": [],
   "source": [
    "rateA, dataA = wavfile.read('../audio_files/beethoven-forkA.wav')\n",
    "dataA=dataA[:,0]\n",
    "rateE, dataE = wavfile.read('../audio_files/forkE-UF.wav')"
   ]
  },
  {
   "cell_type": "markdown",
   "id": "7fa43fc5-3a48-47d0-ae1a-79c06fa65ea4",
   "metadata": {},
   "source": [
    "Now we will call the `periodogram()` function. The arguments are the data and the sampling rate. The outputs are captured as:\n",
    "* fA is a list of frequencies generated by the periodogram\n",
    "* PA is a list of the measured power at each of the frequencies"
   ]
  },
  {
   "cell_type": "code",
   "execution_count": null,
   "id": "a8e86b2c-b88e-4a5f-9f77-2622637b9273",
   "metadata": {},
   "outputs": [],
   "source": [
    "(fA, PA) = periodogram(dataA, rateA)"
   ]
  },
  {
   "cell_type": "code",
   "execution_count": null,
   "id": "1e07ab4c-60ef-4a73-9274-8e996a88885c",
   "metadata": {},
   "outputs": [],
   "source": [
    "plt.plot(fA, PA)\n",
    "plt.xlabel('frequency (Hz)')\n",
    "plt.ylabel('power density');"
   ]
  },
  {
   "cell_type": "markdown",
   "id": "c61df0aa-0d02-4472-a812-209d1959c5f9",
   "metadata": {},
   "source": [
    "Let's zoom in to look at only those frequencies less than 500 Hertz:"
   ]
  },
  {
   "cell_type": "code",
   "execution_count": null,
   "id": "d556e387-186c-4ee5-ab3c-33bed266f911",
   "metadata": {},
   "outputs": [],
   "source": [
    "plt.plot(fA, PA)\n",
    "plt.xlim(0, 500)\n",
    "plt.xlabel('frequency (Hz)')\n",
    "plt.ylabel('power density');"
   ]
  },
  {
   "cell_type": "markdown",
   "id": "d034cc16-65ec-45ac-8d64-21f2d8953827",
   "metadata": {},
   "source": [
    "We can see that the signal is concentrated at a single frequency somewhere near 450 Hz. Let's zoom in between 440 Hz and 460 Hz:"
   ]
  },
  {
   "cell_type": "code",
   "execution_count": null,
   "id": "36880d81-f9e0-4a38-8c41-9718da2208c0",
   "metadata": {},
   "outputs": [],
   "source": [
    "plt.plot(fA, PA)\n",
    "plt.xlim(440,460)\n",
    "plt.xlabel('frequency (Hz)')\n",
    "plt.ylabel('power density')"
   ]
  },
  {
   "cell_type": "markdown",
   "id": "4420307b-8936-401e-b11f-d26a2f3c8d6b",
   "metadata": {},
   "source": [
    "We can see that the frequency of Beethoven's tuning fork is about 455 Hz. Note that this tuning fork was used to provide a reference for a middle A note. A modern tuning fork for middle A uses 440 Hz. Thus, Beethoven's tuning fork produced a slightly higher pitch than a modern tuning fork and would be considered to be *sharp* by today's standards."
   ]
  },
  {
   "cell_type": "markdown",
   "id": "e0a067d2-6023-4cfa-9a28-ea10a38be293",
   "metadata": {},
   "source": [
    "Now let's use the periodogram on the signal from the UF E tuning fork:"
   ]
  },
  {
   "cell_type": "code",
   "execution_count": null,
   "id": "09427edb-4ff8-4398-ad34-3ffcf95d5d7a",
   "metadata": {},
   "outputs": [],
   "source": [
    "(fE, PE) = periodogram(dataE, rateE)"
   ]
  },
  {
   "cell_type": "code",
   "execution_count": null,
   "id": "9a2a2d55-8a04-4b93-be51-eb650be5bb7d",
   "metadata": {},
   "outputs": [],
   "source": [
    "plt.plot(fE, PE)\n",
    "plt.xlabel('frequency (Hz)')\n",
    "plt.ylabel('power density');"
   ]
  },
  {
   "cell_type": "markdown",
   "id": "2e433e76-3ad3-41a4-848c-c0775c493074",
   "metadata": {},
   "source": [
    "Again, the tuning fork's frequency content seems to be at a single frequency (as expected), and the frequency is less than 500 Hz, so let's zoom in to that range:"
   ]
  },
  {
   "cell_type": "code",
   "execution_count": null,
   "id": "537a9a0d-e415-4f65-9f9b-b363565990d8",
   "metadata": {},
   "outputs": [],
   "source": [
    "plt.plot(fE, PE)\n",
    "plt.xlim(0, 500)\n",
    "plt.xlabel('frequency (Hz)')\n",
    "plt.ylabel('power density');"
   ]
  },
  {
   "cell_type": "markdown",
   "id": "30032500-fa8b-4f5f-965e-20bb6596eafb",
   "metadata": {},
   "source": [
    "This time we can observe that the frequency is around 330 Hz, so let's zoom in between 325 Hz and 335 Hz:"
   ]
  },
  {
   "cell_type": "code",
   "execution_count": null,
   "id": "718c8f2f-852f-4653-b2cf-cbd81c2a850c",
   "metadata": {},
   "outputs": [],
   "source": [
    "plt.plot(fE, PE)\n",
    "plt.xlim(325, 335)\n",
    "plt.xlabel('frequency (Hz)')\n",
    "plt.ylabel('power density');"
   ]
  },
  {
   "cell_type": "markdown",
   "id": "b094a150-b500-4c42-8b96-49d228701682",
   "metadata": {},
   "source": [
    "The periodogram indicates that this tuning for is around 329 Hz. According to the packaging the tuning fork should resonate at a 329.6 Hz."
   ]
  },
  {
   "cell_type": "markdown",
   "id": "e2e29543-988b-4f53-819c-f14b5a5b50bc",
   "metadata": {},
   "source": [
    "Tuning forks are designed to generate a tone that is at exactly one frequency, and we observe that in the periodograms. However, that makes for periodograms that are not very interesting!\n",
    "\n"
   ]
  },
  {
   "cell_type": "markdown",
   "id": "5d642838-fc84-4747-b624-1fabe5c2a699",
   "metadata": {},
   "source": [
    "## Richer Audio: Guitar"
   ]
  },
  {
   "cell_type": "code",
   "execution_count": null,
   "id": "5a1c7f3d-206d-44eb-9d50-a1363974da60",
   "metadata": {},
   "outputs": [],
   "source": [
    "GuitarRate, GuitarData = wavfile.read('../audio_files/guitarE.wav')"
   ]
  },
  {
   "cell_type": "markdown",
   "id": "9180619d-929e-486d-aa39-36520059c717",
   "metadata": {},
   "source": [
    "Here is what that sounds like:"
   ]
  },
  {
   "cell_type": "code",
   "execution_count": null,
   "id": "d1c89acb-9992-42cd-9561-6284f5438f6c",
   "metadata": {},
   "outputs": [],
   "source": [
    "sd.play(GuitarData, GuitarRate)"
   ]
  },
  {
   "cell_type": "markdown",
   "id": "570a35a9-5597-43fa-9586-5e3a114739e0",
   "metadata": {},
   "source": [
    "And here is what the guitar sound pressure looks like over time:"
   ]
  },
  {
   "cell_type": "code",
   "execution_count": null,
   "id": "b1ca2f2e-6fe0-415c-bc4b-66eb2ba68fd7",
   "metadata": {},
   "outputs": [],
   "source": [
    "duration = 0.01\n",
    "times=np.linspace(0,duration, int(duration*GuitarRate))\n",
    "plt.plot(times, GuitarData[:int(duration*GuitarRate)])\n",
    "plt.xlabel('Time (s)')\n",
    "plt.ylabel('Relative sound pressure');"
   ]
  },
  {
   "cell_type": "markdown",
   "id": "5f77fd68-18b6-403c-95ab-725671924434",
   "metadata": {},
   "source": [
    "**Question 2.4: What do you observe? How is this similar to, and different from, the tuning fork signals?**"
   ]
  },
  {
   "cell_type": "code",
   "execution_count": null,
   "id": "74422f48-5f8a-4d1f-a1a6-b1870344c147",
   "metadata": {},
   "outputs": [],
   "source": [
    "(GuitarF, GuitarP) = periodogram(GuitarData, GuitarRate)"
   ]
  },
  {
   "cell_type": "code",
   "execution_count": null,
   "id": "d9e26b7b-ccd9-42fa-996d-bb51b23caa4f",
   "metadata": {},
   "outputs": [],
   "source": [
    "plt.plot(GuitarF, GuitarP)\n",
    "plt.xlabel('frequency (Hz)')\n",
    "plt.ylabel('power density');"
   ]
  },
  {
   "cell_type": "markdown",
   "id": "4ebdb1bc-450d-4500-a922-eb3bbfc4ff2d",
   "metadata": {},
   "source": [
    "Notice that even though we are playing **the same note** as the E tuning fork, we get a different periodogram.  Let's zoom into the region where most of the signal power is:"
   ]
  },
  {
   "cell_type": "code",
   "execution_count": null,
   "id": "90ffafa8-85e0-48ef-888c-dc06a86bc664",
   "metadata": {},
   "outputs": [],
   "source": [
    "plt.plot(GuitarF, GuitarP)\n",
    "plt.xlabel('frequency (Hz)')\n",
    "plt.ylabel('power density')\n",
    "plt.xlim(0,4000);"
   ]
  },
  {
   "cell_type": "markdown",
   "id": "70fe1c76-a189-43f0-af46-354c7f460b16",
   "metadata": {},
   "source": [
    "And let's zoom in one more time:"
   ]
  },
  {
   "cell_type": "code",
   "execution_count": null,
   "id": "40cf72b6-9efc-4d19-a43f-7ff6af15bff0",
   "metadata": {},
   "outputs": [],
   "source": [
    "plt.plot(GuitarF, GuitarP)\n",
    "plt.xlabel('frequency (Hz)')\n",
    "plt.ylabel('power density')\n",
    "plt.xlim(300,1000);"
   ]
  },
  {
   "cell_type": "markdown",
   "id": "a8082cd2-3deb-454c-b784-1c241ee84a68",
   "metadata": {},
   "source": [
    "**Question 2.5: Recall that the E note is at about 330 Hz. How do the other components in this plot relate to that frequency?**"
   ]
  },
  {
   "cell_type": "markdown",
   "id": "f046f49f-e003-4e45-9737-7ad58d5b8b22",
   "metadata": {
    "jupyter": {
     "source_hidden": true
    },
    "tags": []
   },
   "source": [
    "For a given note, an instrument's sound can be decomposed into several parts:\n",
    "\n",
    "* The **fundamental frequency** (or simply fundamental) is the lowest frequency component.\n",
    "* The **harmonic frequencies** (or simply harmonics) are higher frequency components that are integer multiples of the fundamental frequency.\n"
   ]
  },
  {
   "cell_type": "markdown",
   "id": "37271456-9979-4b4d-8703-2234ff3a1bdb",
   "metadata": {},
   "source": [
    "The cell below will play the fundamental frequency of the guitar and let you adjust the number of harmonics using a slider. \n",
    "\n",
    "**Activity 2.6: Write down the number of harmonics you feel are needed for the resulting signal to like the original guitar.**"
   ]
  },
  {
   "cell_type": "code",
   "execution_count": null,
   "id": "7af7590c-324b-43e6-855f-adab9918d3c6",
   "metadata": {},
   "outputs": [],
   "source": [
    "rate = 44100\n",
    "times = np.linspace(0, 1, rate )\n",
    "def filter_guitar( harmonics=0):\n",
    "    order = 10 \n",
    "    cutoff = (harmonics+1)*330+330/4\n",
    "    sos= butter(order, cutoff, btype='low',fs=rate,  output='sos')\n",
    "    FilterData = sosfilt(sos, GuitarData/GuitarData.max())\n",
    "    #plt.plot(FilterData)\n",
    "    sd.play(FilterData, rate)\n",
    "    (FilterF, FilterP) = periodogram(FilterData, rate)\n",
    "    plt.plot(FilterF, FilterP)\n",
    "    plt.xlabel('frequency (Hz)')\n",
    "    plt.ylabel('power density')\n",
    "    plt.xlim(0,6000)\n",
    "    plt.show();\n",
    "\n",
    "    return;\n",
    "interact(filter_guitar, harmonics=(0,18,1));"
   ]
  },
  {
   "cell_type": "markdown",
   "id": "e90f7166-5390-4b60-8df0-c07b232a23ef",
   "metadata": {},
   "source": [
    "## Richer Audio: Human Voice\n",
    "\n",
    "### Optional: Record Your Voice\n",
    "\n",
    "If you have a working microphone set up with working pyaudio and wave libraries, you can record your voice for the following exercises. If not, skip ahead to ...\n",
    "\n",
    "Start by loading the libraries and creating the record function by running the following cell:"
   ]
  },
  {
   "cell_type": "code",
   "execution_count": null,
   "id": "27763fd4-9878-42fb-83c6-7cf597699c50",
   "metadata": {},
   "outputs": [],
   "source": [
    "# This block defines a function that can be used to capture audio\n",
    "# to a specified filename and for a specified duration. Read the \n",
    "# comments in the function for more details\n",
    "\n",
    "\n",
    "import pyaudio\n",
    "import wave\n",
    "\n",
    "def record(filename, duration = 3, rate = 44100):\n",
    "    # Record audio from the system standard audio device, \n",
    "    # plot the output, and save the data as a WAV file.\n",
    "    #\n",
    "    # Audio is captured as soon as the function is run.\n",
    "    #\n",
    "    # Parameters\n",
    "    #     filename = name of file to save as (recommend using .wav extension)\n",
    "    #     duration = length of audio recording (defaults to 3s) \n",
    "    #     rate = sampling rate (44100 is widely compatible)\n",
    "    #\n",
    "    # Returns\n",
    "    #     rate = sampling rate (to have same outputs as wavfile.read() )\n",
    "    #     data = data in ndarray format\n",
    "    #\n",
    "    # Examples\n",
    "    # To record 3s to the file \"tuningA.wav\", call the function like\n",
    "    #     record(\"tuningA.wav\")\n",
    "    #\n",
    "    # To record 5s to the file \"voice.wav\", call the function like\n",
    "    #     record(\"voice.wav\", 5)\n",
    "    #\n",
    "    # Note that when you run  this block, the function is defined, but\n",
    "    # it will not record any audio until you call this function in a later block\n",
    "    #\n",
    "    # John M. Shea\n",
    "    # 6/1/2021\n",
    "\n",
    "   \n",
    "    CHUNK = 1024\n",
    "    FORMAT = pyaudio.paInt16\n",
    "    CHANNELS = 1\n",
    "\n",
    "    p = pyaudio.PyAudio()\n",
    "\n",
    "    stream = p.open(format=FORMAT,\n",
    "                    channels=CHANNELS,\n",
    "                    rate=rate,\n",
    "                    input=True,\n",
    "                    frames_per_buffer=CHUNK)\n",
    "    display.clear_output()\n",
    "    print(\"* recording\")\n",
    "\n",
    "    frames = []\n",
    "\n",
    "    for i in range(0, int(rate / CHUNK * duration)):\n",
    "        data = stream.read(CHUNK)\n",
    "        frames.append(data)\n",
    "\n",
    "\n",
    "    print(\"* done recording\")\n",
    "\n",
    "    stream.stop_stream()\n",
    "    stream.close()\n",
    "    p.terminate()\n",
    "\n",
    "    wf = wave.open(filename, 'wb')\n",
    "    wf.setnchannels(CHANNELS)\n",
    "    wf.setsampwidth(p.get_sample_size(FORMAT))\n",
    "    wf.setframerate(rate)\n",
    "    wf.writeframes(b''.join(frames))\n",
    "    wf.close()\n",
    "\n",
    "    time=np.linspace(0, duration, int(rate/CHUNK*duration)*CHUNK)\n",
    "    #data=np.frombuffer(frames[0], dtype=np.int16)\n",
    "    #for frame in range(1,len(frames)):\n",
    "    #    data=np.hstack((data, np.frombuffer(frames[frame], dtype=np.int16)))\n",
    "    data = np.frombuffer(b''.join(frames), dtype=np.int16)\n",
    "    \n",
    "    plt.plot(time, data)\n",
    "    plt.xlabel('Time (s)')\n",
    "    plt.ylabel('Relative sound pressure')\n",
    "\n",
    "    \n",
    "    return rate, data\n",
    "\n",
    "\n"
   ]
  },
  {
   "cell_type": "markdown",
   "id": "12be1558-137a-45c8-ba51-02e7bf53010a",
   "metadata": {},
   "source": [
    "While singing a note (laaaaaa) and run the two blocks below after you have started singing. Keep singing the note until the recording is done (3 seconds). If you do not have a working microphone step, skip this step and follow the directions below.\n",
    "\n",
    "**Note that it is important that you sing a single tone -- other types of voice recordings will not have the frequency content that we expect with a fundamental and harmonic tones.**"
   ]
  },
  {
   "cell_type": "code",
   "execution_count": null,
   "id": "aeed875e-868b-4105-b62b-aacb8cb921a8",
   "metadata": {},
   "outputs": [],
   "source": [
    "VoiceRate, VoiceData = record('voice.wav')"
   ]
  },
  {
   "cell_type": "markdown",
   "id": "bd802b72-21ec-4ff8-b796-5d74127fa35d",
   "metadata": {
    "tags": []
   },
   "source": [
    "### Pre-recorded Voice\n",
    "\n",
    "If you did NOT record your voice, run the following cell. Otherwise, skip ahead to **Analyzing Voice Data**"
   ]
  },
  {
   "cell_type": "code",
   "execution_count": null,
   "id": "e0d484e6-fd82-4fd4-b87a-1f6bd9a6c8f2",
   "metadata": {},
   "outputs": [],
   "source": [
    "# Run only if you did not record your voice\n",
    "\n",
    "VoiceRate, VoiceData = wavfile.read('../audio_files/voice-example.wav')"
   ]
  },
  {
   "cell_type": "markdown",
   "id": "6cd20841-e050-4cd8-9eb7-9b8f57c49b69",
   "metadata": {},
   "source": [
    "## Analyzing Voice Data"
   ]
  },
  {
   "cell_type": "markdown",
   "id": "e867570b-a40f-42ee-a443-ce67b5fa2ccb",
   "metadata": {},
   "source": [
    "Let's look at the voice data in the time domain first:"
   ]
  },
  {
   "cell_type": "code",
   "execution_count": null,
   "id": "69787278-e8fd-4a7d-aed6-612a121f162b",
   "metadata": {},
   "outputs": [],
   "source": [
    "duration = 0.05\n",
    "times=np.linspace(0,duration, int(duration*VoiceRate))\n",
    "plt.plot(times, VoiceData[:int(duration*VoiceRate)])\n",
    "plt.xlabel('Time (s)')\n",
    "plt.ylabel('Relative sound pressure');"
   ]
  },
  {
   "cell_type": "markdown",
   "id": "a7392035-b8b1-45c6-8c6c-a0cde7c6f96e",
   "metadata": {},
   "source": [
    "Now apply the periodogram and plot the power at different frequencies:"
   ]
  },
  {
   "cell_type": "code",
   "execution_count": null,
   "id": "6ff816ae-6dc3-4712-90de-81c1f4aeb7d9",
   "metadata": {},
   "outputs": [],
   "source": [
    "(VoiceF, VoiceP) = periodogram(VoiceData, VoiceRate)"
   ]
  },
  {
   "cell_type": "code",
   "execution_count": null,
   "id": "e909d0ec-e889-4d2c-a12b-7e647b55d79a",
   "metadata": {},
   "outputs": [],
   "source": [
    "plt.plot(VoiceF, VoiceP)\n",
    "plt.xlabel('frequency (Hz)')\n",
    "plt.ylabel('power density');"
   ]
  },
  {
   "cell_type": "markdown",
   "id": "35c982ad-24af-4287-9e39-d86fb1658ab0",
   "metadata": {},
   "source": [
    "**IMPORTANT: The following examples will depend on your recording! Change the value of high_cutoff based on what you see in the plot above. I am using values based on the example recording.**"
   ]
  },
  {
   "cell_type": "code",
   "execution_count": null,
   "id": "fd507df4-15df-41b6-9e8a-c6a07e0522ee",
   "metadata": {},
   "outputs": [],
   "source": [
    "high_cutoff = 1000 #Change this number based on your data!\n",
    "\n",
    "plt.plot(VoiceF, VoiceP)\n",
    "plt.xlabel('frequency (Hz)')\n",
    "plt.ylabel('power density');\n",
    "plt.xlim(0,high_cutoff);"
   ]
  },
  {
   "cell_type": "markdown",
   "id": "bf6a6f0b-93cc-4019-a64b-191b502a4df4",
   "metadata": {},
   "source": [
    "And let's zoom in one more time to find the fundamental frequency and check the harmonics:"
   ]
  },
  {
   "cell_type": "code",
   "execution_count": null,
   "id": "07d1fcc4-f9ea-4797-9eb0-08b92eeb77ae",
   "metadata": {},
   "outputs": [],
   "source": [
    "high_cutoff = 400 #Change this number based on your data!\n",
    "\n",
    "plt.plot(VoiceF, VoiceP)\n",
    "plt.xlabel('frequency (Hz)')\n",
    "plt.ylabel('power density');\n",
    "plt.xlim(0,high_cutoff);\n",
    "plt.grid();"
   ]
  },
  {
   "cell_type": "markdown",
   "id": "ea14bd35-0566-4ffc-8806-0b96d2275e03",
   "metadata": {},
   "source": [
    "If you are using the voice example, you can see that the fundamental is at about 165 Hz, and the first harmonic is at about 330 Hz. This is because this example was created by singing an octave below the E tuning fork."
   ]
  },
  {
   "cell_type": "markdown",
   "id": "5a32e376-2c8a-4894-bb87-d021df9884e7",
   "metadata": {},
   "source": [
    "Now use the block below to investigate the sound when the number of harmonics is changed. \n",
    "\n",
    "**IMPORTANT: Set the value of `fundamental` to the fundamental frequency of your data (found from the plot above) before running the block!**"
   ]
  },
  {
   "cell_type": "code",
   "execution_count": null,
   "id": "5ee237da-c4d4-4704-a5ca-7ab73f27d173",
   "metadata": {},
   "outputs": [],
   "source": [
    "fundamental = 165 #BE SURE TO SET THIS PROPERLY\n",
    "\n",
    "duration=3\n",
    "rate = VoiceRate\n",
    "times = np.linspace(0, 1, rate )\n",
    "def filter_voice( harmonics=0):\n",
    "    order = 10 \n",
    "    cutoff = (harmonics+1)*fundamental+fundamental/4\n",
    "    sos= butter(order, cutoff, btype='low',fs=rate,  output='sos')\n",
    "    FilterData = sosfilt(sos, VoiceData/VoiceData.max())\n",
    "    #plt.plot(FilterData)\n",
    "    sd.play(FilterData, rate)\n",
    "    (FilterF, FilterP) = periodogram(FilterData, rate)\n",
    "    plt.plot(FilterF, FilterP)\n",
    "    plt.xlabel('frequency (Hz)')\n",
    "    plt.ylabel('power density')\n",
    "    plt.xlim(0,4000)\n",
    "    plt.show();\n",
    "\n",
    "    return;\n",
    "interact(filter_voice, harmonics=(0,18,1));"
   ]
  },
  {
   "cell_type": "markdown",
   "id": "bba3e7f3-402d-4d60-8497-db5e6acae5e8",
   "metadata": {},
   "source": [
    "**Activity 2.7: How many harmonics are needed before this sounds like a voice?**"
   ]
  },
  {
   "cell_type": "markdown",
   "id": "998b6eaf-48a3-4fcc-a8ea-cb8af3a60f17",
   "metadata": {},
   "source": [
    "**Activity 2.8 (Optional, requires recording): Go back and record human speech and repeat all the voice data analysis. How is the time signal different than for singing a note? How is the frequency signal different than for singing a note?**"
   ]
  }
 ],
 "metadata": {
  "kernelspec": {
   "display_name": "Python 3 (ipykernel)",
   "language": "python",
   "name": "python3"
  },
  "language_info": {
   "codemirror_mode": {
    "name": "ipython",
    "version": 3
   },
   "file_extension": ".py",
   "mimetype": "text/x-python",
   "name": "python",
   "nbconvert_exporter": "python",
   "pygments_lexer": "ipython3",
   "version": "3.7.4"
  }
 },
 "nbformat": 4,
 "nbformat_minor": 5
}
