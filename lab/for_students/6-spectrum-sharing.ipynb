{
 "cells": [
  {
   "cell_type": "markdown",
   "id": "6884f06c-f78b-405b-860f-3aa47a48f670",
   "metadata": {},
   "source": [
    "# Part 6. Spectrum Sharing\n",
    "\n",
    "**Objectives:** \n",
    "* Understand the basics of spectrum sharing and perform an experiment on spectrum sharing with multiple teams\n",
    "* Use a collaboration channel to improve the efficiency of finding a good spectrum sharing solution\n",
    "\n",
    "**Required Materials**\n",
    "* Computer speakers\n",
    "* Python audio libraries noted below\n",
    "* Printouts of the Morse Code chart (file: morse.pdf) for each lab participant. "
   ]
  },
  {
   "cell_type": "markdown",
   "id": "fec37a6b-ec8f-46b0-8618-e3e95e20561f",
   "metadata": {},
   "source": [
    "## Loading the Necessary Libraries\n"
   ]
  },
  {
   "cell_type": "code",
   "execution_count": null,
   "id": "18543776-6399-4e83-a832-fb620193a655",
   "metadata": {},
   "outputs": [],
   "source": [
    "# These are the minimum sound libraries required. \n",
    "\n",
    "import scipy.io.wavfile as wavfile\n",
    "import sounddevice as sd\n",
    "import pyaudio"
   ]
  },
  {
   "cell_type": "code",
   "execution_count": null,
   "id": "6ff19bc3-4ebf-48d8-849a-7af150556ecc",
   "metadata": {},
   "outputs": [],
   "source": [
    "# Library for visualizing the sound recordings\n",
    "\n",
    "import matplotlib.pyplot as plt\n",
    "%matplotlib inline"
   ]
  },
  {
   "cell_type": "code",
   "execution_count": null,
   "id": "91548c4a-fc18-48f7-845c-12e2e061bc65",
   "metadata": {},
   "outputs": [],
   "source": [
    "# Helper libraries\n",
    "\n",
    "import numpy as np\n",
    "import time\n"
   ]
  },
  {
   "cell_type": "code",
   "execution_count": null,
   "id": "9a775346-2ce0-457e-97dd-b143a526168f",
   "metadata": {},
   "outputs": [],
   "source": [
    "# The code in this block loads some elements for adding interactive \n",
    "# widgets to the code\n",
    "\n",
    "from ipywidgets import interact, interactive, fixed, interact_manual\n",
    "import ipywidgets as widgets\n",
    "import IPython.display as display\n",
    "\n"
   ]
  },
  {
   "cell_type": "code",
   "execution_count": null,
   "id": "a71975c0-a5c3-4222-bc1a-3575f8e7917a",
   "metadata": {},
   "outputs": [],
   "source": [
    "# This notebook uses a couple of new functions from NumPy to transform a signal into a frequency\n",
    "# representation\n",
    "\n",
    "import numpy.fft"
   ]
  },
  {
   "cell_type": "markdown",
   "id": "f539079c-2ef6-465a-b01d-35ccfc8b40df",
   "metadata": {},
   "source": [
    "## Spectrum Sharing\n",
    "\n",
    "The radio frequency band can be divided among users in different ways. In cellular (mobile phone) communications, the carriers (like T-Mobile or Verizon) buy exclusive rights to use particular sets of frequencies in different regions.\n",
    "\n",
    "In WiFi, people setting up wireless access points try to choice different frequencies than their neighbors in order to avoid the signals colliding.\n",
    "\n",
    "\n",
    "Future cellular communication systems may use dynamic spectrum sharing techniques, in which intelligent radios automatically determine a frequency band to use. The radios may use criteria, such as whether a particular frequency band is in use, or may exchange credit with other radios to buy exclusive access to a frequency band. \n",
    "\n",
    "In this segment of the lab, we will explore dynamic spectrum sharing, where you and your teammates are the intelligence behind the radios.  Instead of using the RF spectrum, we will experiment with sharing the audible spectrum."
   ]
  },
  {
   "cell_type": "markdown",
   "id": "6d41ec4f-6516-478b-a92d-0ac0f20ba47e",
   "metadata": {},
   "source": [
    "**Activity 6.1:  Volume Normalization**\n",
    "\n",
    "Lab organizer -- divide the students in up to 4 teams. Each team needs at least 2 people and 2 computers. Determine a unique numbering (from 1 to 4 if there are 4 teams) for the teams. For instance, find out the earliest or latest time that anyone got up in each team, and then use the order of those times to number the teams.\n",
    "\n",
    "In this exercise, one computer with a speaker will act as the transmitter, and one computer with a microphone will act as the receiver. Ideally, the transmitters should be in in a rough line across from the receivers in a similar line. \n",
    "\n",
    "At each team's transmitter and receiver, have the teams replace the 0 in the cell below with their team number and then run the cell:"
   ]
  },
  {
   "cell_type": "code",
   "execution_count": null,
   "id": "c6e4282f-0f36-4f22-b0a9-ce5675f8bbf3",
   "metadata": {},
   "outputs": [],
   "source": [
    "team_number = 0 # Change the 0 to your team's number"
   ]
  },
  {
   "cell_type": "markdown",
   "id": "65735174-86d4-4ea9-a513-aaed2b0d39cb",
   "metadata": {},
   "source": [
    "The way we will share the spectrum is by each team using one of the following tones: 400 Hz, 600 Hz, 800 Hz, and 1000 Hz. Teams will simultaneously transmit a message that contains a randomly chosen animal using Morse Code. The first step will be to adjust the output volume on the transmitters to similar levels. Use the following procedure:\n",
    "\n",
    "1. Have Team 1 run the code below and adjust the volume to a level at which the tone is clearly heard from the receivers.\n",
    "2. Now have Team 1 run the code. As soon as the tone finishes, have Team 2 run the code and adjust the volume to try to match Team 1's transmission volume. Repeat as necessary.\n",
    "3. Repeat the procedure in step 2 for Team 1 and each of Team 3 and Team 4. \n",
    "4. Have each team run the code below in sequence and make any final volume adjustments."
   ]
  },
  {
   "cell_type": "code",
   "execution_count": null,
   "id": "329c07a3-21f9-4039-a66b-4b07af359fc1",
   "metadata": {},
   "outputs": [],
   "source": [
    "# Play tone for adjusting volumes of different transmitters\n",
    "\n",
    "f_c = 700  # 700 Hz tone in the middle of the four transmission frequencies\n",
    "\n",
    "rate=44100\n",
    "\n",
    "# Create the sinusoid:\n",
    "total_duration=2\n",
    "t=np.linspace(0, total_duration, int(total_duration*rate) )\n",
    "carrier = np.sin(2 * np.pi * f_c * t)\n",
    "\n",
    "\n",
    "sd.play(carrier)"
   ]
  },
  {
   "cell_type": "markdown",
   "id": "15b8e7a2-b055-4b86-a3b8-b8e0dd13783c",
   "metadata": {},
   "source": [
    "### Spectrum Sharing with Fixed Assignments 1\n",
    "\n",
    "\n",
    "**Activity 6.2: Simultaneous Transmission Fixed Frequencies**\n",
    "\n",
    "Once the volumes are adjusted, we will begin experimenting with our spectrum sharing experiments. As a first experiment, we will test the ability of our ears to discriminate among signals at different frequencies. Choose one team member to operate the transmitter; this team member is not allowed to guess the transmitted message. The other team members should stand by the receiver computers (to separate them from the transmitter) and try to work as human receivers. Each team member should have a printout of the Morse Code table to help with this.\n",
    "\n",
    "At a signal from the lab organizer, have teams simultaneously run the cell below, according to the following plan:\n",
    "\n",
    "1. Teams 1 and 3 run the block below simultaneously.\n",
    "2. Teams 2 and 4 run the block below simultaneously.\n",
    "3. Teams 1, 2, and 4 run the block below simultaneously.\n",
    "4. Teams 1, 3, and 4 run  the block below simultaneously.\n",
    "5. All teams run the block below simultaneously.\n",
    "\n",
    "**Whenever your team transmits, record the message guessed by the human receivers and the actual message transmitted.**"
   ]
  },
  {
   "cell_type": "code",
   "execution_count": null,
   "id": "14bd9e0b-5206-42a5-8b7e-c979140478d2",
   "metadata": {},
   "outputs": [],
   "source": [
    "def transmit_freq(freq_index):\n",
    "    '''\n",
    "    Transmit a randomly chosen message at one of several\n",
    "    pre-selected frequencies.\n",
    "\n",
    "    Parameters\n",
    "        freq_index = used to choose from preset group of frequencies\n",
    "        \n",
    "    Returns\n",
    "        N/A\n",
    "\n",
    "\n",
    "    Note that when you run  this block, the function is defined, but\n",
    "    it will not record any audio until you call this function in a later block\n",
    "\n",
    "    John M. Shea\n",
    "    6/1/2021\n",
    "    '''\n",
    "\n",
    "    dit_duration=0.20\n",
    "    all_frequencies = [400, 600, 800, 1000]\n",
    "\n",
    "    if freq_index not in [1,2,3,4]:\n",
    "        print(\"Before running this cell, set the team_number above and run that cell (shift-Enter)!\")\n",
    "        raise NameError(\"Wrong team_number\")\n",
    "\n",
    "    f_c = all_frequencies[freq_index-1]\n",
    "\n",
    "    codex = {\n",
    "        'cat' : np.array([[1,1,1,0,1,0,1,1,1,0,1,0,0,0,1,0,1,1,1,0,0,0,1,1,1]]),\n",
    "        'dog' : np.array([[1,1,1,0,1,0,1,0,0,0,1,1,1,0,1,1,1,0,1,1,1,0,0,0,1,1,1,0,1,1,1,0,1]]),\n",
    "        'fox' : np.array([[1,0,1,0,1,1,1,0,1,0,0,0,1,1,1,0,1,1,1,0,1,1,1,0,0,0,1,1,1,0,1,0,1,0,1,1,1]]),\n",
    "        'bear': np.array([[1,1,1,0,1,0,1,0,1,0,0,0,1,0,0,0,1,0,1,1,1,0,0,0,1,0,1,1,1,0,1]])\n",
    "    }\n",
    "    animals=list(codex.keys())\n",
    "    animal=animals[ np.random.randint(len(animals))]\n",
    "\n",
    "    info=codex[animal]\n",
    "    rate=44100\n",
    "\n",
    "    # Create the sinusoid:\n",
    "    total_duration=np.shape(info)[1]*dit_duration\n",
    "    t=np.linspace(0, total_duration, int(total_duration*rate) )\n",
    "    carrier = np.sin(2 * np.pi * f_c * t)\n",
    "\n",
    "    # Each bit needs to last bit_duration*rate samples:\n",
    "    repeated_bits = np.repeat(info.T, dit_duration * rate, axis=1)\n",
    "\n",
    "    # Make the repeated bits into one long signal vector\n",
    "    info_signal = np.reshape(repeated_bits, -1)\n",
    "\n",
    "    output_signal= info_signal*carrier\n",
    "\n",
    "\n",
    "    time.sleep(1)\n",
    "    sd.play(output_signal)\n",
    "    print('Which of these animals was transmitted?')\n",
    "    print('1 - cat')\n",
    "    print('2 - dog')\n",
    "    print('3 - fox')\n",
    "    print('4 - bear')\n",
    "    print()\n",
    "    print('Type the number (or type r to repeat) and press Enter', end='')\n",
    "\n",
    "    guess=input()\n",
    "\n",
    "    if animals[int(guess)-1] == animal:\n",
    "        print(f'Correct! The animal was {animal}')\n",
    "    else:\n",
    "        print(f'Incorrect. The animal was {animal}')\n",
    "\n",
    "\n"
   ]
  },
  {
   "cell_type": "code",
   "execution_count": null,
   "id": "7037e1ce-c98c-481e-ae20-b116bea91d14",
   "metadata": {},
   "outputs": [],
   "source": [
    "transmit_freq(team_number)"
   ]
  },
  {
   "cell_type": "markdown",
   "id": "0c4c3924-f27e-4ffc-8a0f-9ef71e475807",
   "metadata": {},
   "source": [
    "### Spectrum Sharing with Fixed Assignments 2\n",
    "\n",
    "\n",
    "**Activity 6.3: Using a Tuned Receiver**\n",
    "\n",
    "Now let's use a receiver that uses signal processing to filter out the other signals and remove the carrier from the desired signal. You do not need to understand how this receiver works, but a brief explanation follows: This is a *tuned* receiver that multiplies the incoming signal with a sinusoid at the same frequency. This will result in a copy of the signal with the frequency tone removed and a copy of the signal at twice the frequency. We then use a low-pass filter to remove the double frequency component and any signals at other frequencies.\n",
    "\n",
    "Each team should open this notebook on the receiver computer and run all the cells at the top to load the libraries.\n",
    "\n",
    "Teams should take turns doing the following:\n",
    "\n",
    "The transmitter is going to run the `transmit_freq()` code, as above. \n",
    "\n",
    "The receiver should run the `receive()` function below. Here the `freq_index` parameter should be set to the `team_number`.\n",
    "\n",
    "**Note that both functions should be run at approximately the same time so that the receiver can capture the entire transmitted signal.**\n",
    "\n",
    "*Sketch what the output of the tuned receiver looks like.*"
   ]
  },
  {
   "cell_type": "code",
   "execution_count": null,
   "id": "943a8a22-75a4-45c2-b289-85353baa330a",
   "metadata": {},
   "outputs": [],
   "source": [
    "def receive(freq_index, duration = 12, rate = 44100):\n",
    "    # Record audio from the system standard audio device, \n",
    "    # plot the output, and save the data as a WAV file.\n",
    "    #\n",
    "    # Audio is captured as soon as the function is run.\n",
    "    #\n",
    "    # Parameters\n",
    "    #     freq_index = used to choose from preset group of frequencies\n",
    "    #     duration = length of audio recording (defaults to 10s) \n",
    "    #     rate = sampling rate (44100 is widely compatible)\n",
    "    #\n",
    "    # Returns\n",
    "    #     rate = sampling rate (to have same outputs as wavfile.read() )\n",
    "    #     data = data in ndarray format\n",
    "    #\n",
    "    # \n",
    "    # Note that when you run  this block, the function is defined, but\n",
    "    # it will not record any audio until you call this function in a later block\n",
    "    #\n",
    "    # John M. Shea\n",
    "    # 6/1/2021\n",
    "\n",
    "    all_frequencies = [400, 600, 800, 1000]\n",
    "    f_c = all_frequencies[freq_index-1]\n",
    "\n",
    "\n",
    "    CHUNK = 1024\n",
    "    FORMAT = pyaudio.paInt16\n",
    "    CHANNELS = 1\n",
    "\n",
    "    p = pyaudio.PyAudio()\n",
    "\n",
    "    stream = p.open(format=FORMAT,\n",
    "                    channels=CHANNELS,\n",
    "                    rate=rate,\n",
    "                    input=True,\n",
    "                    frames_per_buffer=CHUNK)\n",
    "    display.clear_output()\n",
    "    print(\"* recording\")\n",
    "\n",
    "    frames = []\n",
    "\n",
    "    for i in range(0, int(rate / CHUNK * duration)):\n",
    "        data = stream.read(CHUNK)\n",
    "        frames.append(data)\n",
    "\n",
    "\n",
    "    print(\"* done recording\")\n",
    "\n",
    "    stream.stop_stream()\n",
    "    stream.close()\n",
    "    p.terminate()\n",
    "\n",
    "    time=np.linspace(0, duration, int(rate/CHUNK*duration)*CHUNK)\n",
    "    #data=np.frombuffer(frames[0], dtype=np.int16)\n",
    "    #for frame in range(1,len(frames)):\n",
    "    #    data=np.hstack((data, np.frombuffer(frames[frame], dtype=np.int16)))\n",
    "    data = np.frombuffer(b''.join(frames), dtype=np.int16)\n",
    "    \n",
    "    plt.plot(time, data)\n",
    "    plt.xlabel('Time (s)')\n",
    "    plt.ylabel('Relative sound pressure')\n",
    "    plt.title('Captured audio signal')\n",
    "\n",
    "    fft1 = np.fft.fft(data)\n",
    "    freqs1 = np.fft.fftfreq(len(data), 1/rate)\n",
    "    plt.figure()\n",
    "    plt.plot(freqs1, abs(fft1) )\n",
    "    plt.title('Power distribution across frequencies')\n",
    "    plt.xlabel('Frequency (Hz)')\n",
    "    plt.ylabel('Power density')\n",
    "\n",
    "\n",
    "    plt.xlim(-1500, 1500)\n",
    "\n",
    "    # Now do some signal processing to remove the carrier wave\n",
    "    csin=np.exp(1j*2*np.pi*f_c*time)\n",
    "    mixed=csin*data\n",
    "\n",
    "    # And now filter out any other signals\n",
    "    order = 10 \n",
    "    cutoff = 100\n",
    "    sos= butter(order, cutoff, btype='low',fs=rate,  output='sos')\n",
    "    FilterData = sosfilt(sos, mixed/mixed.max())\n",
    "    \n",
    "    plt.figure()\n",
    "    plt.plot(time, np.abs(FilterData) )\n",
    "    plt.xlabel('Time (s)')\n",
    "    plt.ylabel('Captured power')\n",
    "    plt.title(f'Power at frequency {f_c} Hz')\n",
    "    \n",
    "    \n",
    "    return rate, data"
   ]
  },
  {
   "cell_type": "code",
   "execution_count": null,
   "id": "edd1cc7f-5a08-4e1a-909d-cdbb9059b0b9",
   "metadata": {},
   "outputs": [],
   "source": [
    "# The transmitter runs only this one:\n",
    "\n",
    "transmit_freq(team_number)"
   ]
  },
  {
   "cell_type": "code",
   "execution_count": null,
   "id": "f0dfd20e-ea6e-40c8-a1a0-a5f708915aac",
   "metadata": {},
   "outputs": [],
   "source": [
    "# The receiver runs only this one:\n",
    "receive(team_number)"
   ]
  },
  {
   "cell_type": "markdown",
   "id": "a0986632-463d-4b4a-a860-ade91c7aa43a",
   "metadata": {},
   "source": [
    "### Dynamic Spectrum Sharing Experiment 1: Three Teams\n",
    "\n",
    "**Activity 6.4: Dynamic Spectrum Sharing with Three Teams, Round 1**\n",
    "\n",
    "We are now ready to carry out our first dynamic spectrum sharing experiment. If you have 4 teams, choose one to sit out the first time this experiment is run.  The remaining 3 teams will try to find a set of frequencies to use that allow each team to receive the signal sent by their team's transmitter.  (The team that sits out this round will participate in a second run of this experiment.)\n",
    "\n",
    "**IMPORTANT:** Teams are not allowed *any* communication with the other teams during this experiment. We will allow limited communication in later experiments.\n",
    "\n",
    "Each experiment consists of a number of rounds. Repeat the following until all teams are able to accurately determine the message sent by their team's transmitter:\n",
    "\n",
    "1. Each team chooses one member to operate their team's transmitter. All other team members will work at the receiver.\n",
    "1. Each team picks a frequency index from 1 to 4. Teams are not allowed to use their team number in the first 2 rounds. If a team was able to recover their message in the previous round, they should generally reuse the same frequency index as in the previous round. Teams that experienced interference and were not able to recover the transmitted message may decide to switch or not switch because if two teams that were using the same frequency both switch, then they both may switch to the same frequency and cause interference again.\n",
    "1. At a signal from the lab leader, the participating teams will run their transmitters and receivers.\n",
    "1. At the receivers, the team members will study the plots and try to decode the Morse-coded words. The members will then tell the team member that is working the transmitter what they think the message was. \n",
    "1. At each transmitter, the team member will use the message specified by the receiver team to answer the question about which message was transmitted. The transmitter will then tell the receiver team whether the message was correctly decoded or not.\n",
    "1. If all teams have recovered their messages correctly, the experiment is complete. Otherwise, the next round begins at step 2 above.\n",
    "\n"
   ]
  },
  {
   "cell_type": "code",
   "execution_count": null,
   "id": "a2394c24-a4a9-45e7-9354-c4eae8bc3a04",
   "metadata": {},
   "outputs": [],
   "source": [
    "# Change chosen_freq to the desired channel_index\n",
    "\n",
    "chosen_freq=0"
   ]
  },
  {
   "cell_type": "code",
   "execution_count": null,
   "id": "1b29cced-688a-48fc-9b36-4bdb046c7010",
   "metadata": {},
   "outputs": [],
   "source": [
    "# The transmitter runs only this one:\n",
    "\n",
    "transmit_freq(chosen_freq)"
   ]
  },
  {
   "cell_type": "code",
   "execution_count": null,
   "id": "2e6927da-9d98-426f-b06d-ae2c973337aa",
   "metadata": {},
   "outputs": [],
   "source": [
    "# The receiver runs only this one:\n",
    "receive(chosen_freq)"
   ]
  },
  {
   "cell_type": "markdown",
   "id": "286bf6de-0be0-44e1-92dd-e20df2a5f651",
   "metadata": {},
   "source": [
    "**Questions:** What is the final list of frequencies used by each team? How many rounds were required?"
   ]
  },
  {
   "cell_type": "markdown",
   "id": "43604610-ec1c-465a-95a3-a8084c1fd3fe",
   "metadata": {},
   "source": [
    "### Dynamic Spectrum Sharing Experiment 2: Three Teams\n",
    "\n",
    "**Activity 6.5: Dynamic Spectrum Sharing with Three Teams, Round 1**\n",
    "\n",
    "If a team had to sit out in Dynamic Spectrum Sharing Experiment 1, repeat the experiment with three different teams. Teams are not allowed to use their team_number or their frequency index from experiment 1 in the first 2 rounds.\n",
    "\n",
    "**Questions:** What is the final list of frequencies used by each team? How many rounds were required?"
   ]
  },
  {
   "cell_type": "markdown",
   "id": "9b6eb5c7-7801-450b-adfa-c0f06b42fe53",
   "metadata": {},
   "source": [
    "### Dynamic Spectrum Sharing Experiment 3: Four Team, Sequential\n",
    "\n",
    "\n",
    "**Activity 6.6: Dynamic Spectrum Sharing with Four Teams, Sequential**\n",
    "\n",
    "In practice, it is unlikely that all of the users of a system would start accessing the channel at the same time. In this experiment, teams will begin transmitting one by one. \n",
    "\n",
    "1. Run the cell below to choose a random order for the teams to begin transmitting. The first team listed will transmit beginning in the first round and every round thereafter, the second team listed will transmit beginning in the second round and every round thereafter, etc.\n",
    "2. When a team is not transmitting, that team can still run the receive() function in order to see which channels have power in them. \n",
    "3. When a team begins transmitting, it should use a transmission frequency that it believes is not being used by any other team. This can determine by listening to the tones being sent or by looking at the plot of power distribution by frequency. Once a team transmits on a frequency, it should continue to use that same frequency provided that they were able to recover the transmitted signal. The team member at the transmitter should tell the team members at the receiver which frequency it is transmitting on. \n",
    "3. During a round, the team members at the receiver will tell the team member at the transmitter which animal (i.e., message) they have decoded. The team member at the transmitter should then inform the team members at the receiver whether they were correct or not. If the team chose a frequency that was already used by another team and were not able to recover their signal because of interference, then that team should choose another frequency in the next round.\n",
    "4. Ideally, every team should have a unique frequency after 4 rounds, and every team should be able to recover their message in round 4. If not, continue with additional rounds until all teams can recover their message.\n",
    "\n"
   ]
  },
  {
   "cell_type": "code",
   "execution_count": null,
   "id": "de8ea606-6f73-4e61-a4cb-92c971e6a928",
   "metadata": {},
   "outputs": [],
   "source": [
    "# The lab leader should run  this to determine the order in which teams should begin transmission\n",
    "\n",
    "teams=[1,2,3,4]\n",
    "np.random.shuffle(teams)\n",
    "print(teams)"
   ]
  },
  {
   "cell_type": "code",
   "execution_count": null,
   "id": "779f18a7-22e2-44ca-9470-8a3b67ab4dff",
   "metadata": {},
   "outputs": [],
   "source": [
    "# Change chosen_freq to the desired channel_index\n",
    "\n",
    "chosen_freq=0"
   ]
  },
  {
   "cell_type": "code",
   "execution_count": null,
   "id": "cefa283d-316b-4575-a1b0-d6324db68fca",
   "metadata": {},
   "outputs": [],
   "source": [
    "# The transmitter runs only this one:\n",
    "\n",
    "transmit_freq(chosen_freq)"
   ]
  },
  {
   "cell_type": "code",
   "execution_count": null,
   "id": "8a68579c-f422-46d8-926d-0904cf1d9557",
   "metadata": {},
   "outputs": [],
   "source": [
    "# The receiver runs only this one:\n",
    "receive(chosen_freq)"
   ]
  },
  {
   "cell_type": "markdown",
   "id": "62272772-b3e9-4276-b540-47e37603b876",
   "metadata": {},
   "source": [
    "**Questions:**  What is the final list of frequencies used by each team?  How many rounds were required? If it was more than 4, try this experiment again and use the plots of power distribution across frequency to try to determine which frequencies are being used in previous rounds. Be sure to select a transmission frequency that is not already being used by another team."
   ]
  },
  {
   "cell_type": "markdown",
   "id": "667966c3-1461-469c-926a-8af968e65eb3",
   "metadata": {},
   "source": [
    "### Dynamic Spectrum Sharing Experiment 4: Collaborative Spectrum Sharing\n",
    "\n",
    "\n",
    "**Activity 6.7: Collaborative Spectrum Sharing with Sufficient Channels**\n",
    "\n",
    "In collaborative spectrum sharing, users a channel share information about their use of the available frequencies to enable the teams to use the spectrum efficiently. This information is sometimes exchanged over a special *collaboration channel*. In this experiment, team members will use voice communication for the collaboration channel. \n",
    "\n",
    "1. The lab leader should run the cell directly below to choose the team order. This is the order in which teams will announce their planned channel usage.\n",
    "2. At the beginning of each round, teams will take turns announcing their planned frequency use. The order in which teams announce their planned frequency will be specified by the lab leader (according to the random order selected in step 1).\n",
    "1. At a signal from the lab leader, the participating teams will run their transmitters and receivers.\n",
    "1. At the receivers, the team members will study the plots and try to decode the Morse-coded words. The members will then tell the team member that is working the transmitter what they think the message was. \n",
    "1. At each transmitter, the team member will use the message specified by the receiver team to answer the question about which message was transmitted. The transmitter will then tell the receiver team whether the message was correctly decoded or not.\n",
    "1. If all teams have recovered their messages correctly, the experiment is complete. Otherwise, the next round begins at step 2 above.\n",
    "\n",
    "\n"
   ]
  },
  {
   "cell_type": "code",
   "execution_count": null,
   "id": "9bb3b408-bdd7-4558-833d-42ed44c8c908",
   "metadata": {},
   "outputs": [],
   "source": [
    "# The lab leader should run this to determine the order in which teams should \n",
    "# announce their planned transmission frequency\n",
    "\n",
    "teams=[1,2,3,4]\n",
    "np.random.shuffle(teams)\n",
    "print(teams)"
   ]
  },
  {
   "cell_type": "code",
   "execution_count": null,
   "id": "a26d6eea-c09f-474c-86e2-9d28cc104c53",
   "metadata": {},
   "outputs": [],
   "source": [
    "# Change chosen_freq to the desired channel_index\n",
    "\n",
    "chosen_freq=0"
   ]
  },
  {
   "cell_type": "code",
   "execution_count": null,
   "id": "4c3282a5-0522-4e9a-9fcc-d717423392b4",
   "metadata": {},
   "outputs": [],
   "source": [
    "# The transmitter runs only this one:\n",
    "\n",
    "transmit_freq(chosen_freq)  "
   ]
  },
  {
   "cell_type": "code",
   "execution_count": null,
   "id": "7180c59a-8e79-454b-8174-1bfc746b7512",
   "metadata": {},
   "outputs": [],
   "source": [
    "# The receiver runs only this one:\n",
    "\n",
    "receive(chosen_freq)"
   ]
  },
  {
   "cell_type": "markdown",
   "id": "49ad205a-0250-4904-9eba-248f2c09d95b",
   "metadata": {},
   "source": [
    "**Questions:** How many rounds were required? If more than 1 round was required, conduct the experiment again. How does this approach compares to the approach in Experiment 3 in terms of using the available frequencies efficiently?\n",
    "\n"
   ]
  },
  {
   "cell_type": "markdown",
   "id": "8856bc14-0e30-497a-904a-3359136a8a03",
   "metadata": {},
   "source": [
    "**Activity 6.7: Collaborative Spectrum Sharing with Insufficient Channels**\n",
    "\n",
    "Repeat experiment 4, but only use the frequencies 1, 2, and 3. Teams do not all have to transmit in a round, but the goal is for each team to deliver 3 messages over a series of 4 rounds.\n",
    "\n",
    "1. The lab leader should run the cell directly below to choose the team order. This is the order in which teams will announce which frequency they plan to use or whether they will not transmit.\n",
    "2. At the beginning of each round, teams will take turns announcing their planned frequency use (or if they will not transmit). The order in which teams announce their planned frequency will be specified by the lab leader (according to the random order selected in step 1).\n",
    "1. At a signal from the lab leader, the participating teams will run their transmitters and receivers.\n",
    "1. At the receivers, the team members will study the plots and try to decode the Morse-coded words. The members will then tell the team member that is working the transmitter what they think the message was. \n",
    "1. At each transmitter, the team member will use the message specified by the receiver team to answer the question about which message was transmitted. The transmitter will then tell the receiver team whether the message was correctly decoded or not.\n",
    "1. If this is the fourth  round, then the experiment is complete. Otherwise, start another round by going to step 2.\n",
    "\n",
    "\n"
   ]
  },
  {
   "cell_type": "code",
   "execution_count": null,
   "id": "587b8447-a21d-4239-9284-d323b617388f",
   "metadata": {},
   "outputs": [],
   "source": [
    "# The lab leader should run this to determine the order in which teams should announce\n",
    "# their planned transmission frequency (or whether they will remain quiet)\n",
    "\n",
    "teams=[1,2,3,4]\n",
    "np.random.shuffle(teams)\n",
    "print(teams)"
   ]
  },
  {
   "cell_type": "code",
   "execution_count": null,
   "id": "7c00bbbc-0ef4-4ce1-ad8c-51c9913d8a1b",
   "metadata": {},
   "outputs": [],
   "source": [
    "# Change chosen_freq to the desired channel_index\n",
    "\n",
    "chosen_freq=0"
   ]
  },
  {
   "cell_type": "code",
   "execution_count": null,
   "id": "07acd032-6867-4911-a041-191bd6a02c45",
   "metadata": {},
   "outputs": [],
   "source": [
    "# The transmitter runs only this one:\n",
    "\n",
    "transmit_freq(chosen_freq)  "
   ]
  },
  {
   "cell_type": "code",
   "execution_count": null,
   "id": "4777ef98-b5d2-42a1-8834-679bb8a81b47",
   "metadata": {},
   "outputs": [],
   "source": [
    "# The receiver runs only this one:\n",
    "\n",
    "receive(chosen_freq)"
   ]
  },
  {
   "cell_type": "markdown",
   "id": "ed3ece47-9347-4042-b4e8-7bb80e88bbf2",
   "metadata": {},
   "source": [
    "**Questions:** \n",
    "\n",
    "* What rounds did each team transmit in?\n",
    "* How many messages were delivered by each team? \n",
    "\n",
    "*If each team did not deliver 3 messages, have the teams discuss how they can achieve the desired goal. Then run the experiment again.*"
   ]
  },
  {
   "cell_type": "markdown",
   "id": "ddada22d-aa21-4cde-afd8-e5b6b981542e",
   "metadata": {},
   "source": [
    "**Activity 6.8: Collaborative Spectrum Sharing with Insufficient Channels**\n",
    "\n",
    "\n",
    "Repeat experiment 5, using only frequency indices 1, 2, and 3. Tell teams that they do not all have to transmit, but each team has the goal of getting their own message through **4 times** in 4 rounds.\n",
    "\n",
    "1. The lab leader should run the cell directly below to choose the team order. This is the order in which teams will announce which frequency they plan to use or whether they will not transmit.\n",
    "2. At the beginning of each round, teams will take turns announcing their planned frequency use (or if they will not transmit). The order in which teams announce their planned frequency will be specified by the lab leader (according to the random order selected in step 1).\n",
    "1. At a signal from the lab leader, the participating teams will run their transmitters and receivers.\n",
    "1. At the receivers, the team members will study the plots and try to decode the Morse-coded words. The members will then tell the team member that is working the transmitter what they think the message was. \n",
    "1. At each transmitter, the team member will use the message specified by the receiver team to answer the question about which message was transmitted. The transmitter will then tell the receiver team whether the message was correctly decoded or not.\n",
    "1. If this is the fourth  round, then the experiment is complete. Otherwise, start another round by going to step 2.\n",
    "\n",
    "\n"
   ]
  },
  {
   "cell_type": "code",
   "execution_count": null,
   "id": "0b47ee54-b9bd-4f13-a4e8-f87c0eea1d7b",
   "metadata": {},
   "outputs": [],
   "source": [
    "# The lab leader should run this to determine the order in which teams should announce\n",
    "# their planned transmission frequency (or whether they will remain quiet)\n",
    "\n",
    "teams=[1,2,3,4]\n",
    "np.random.shuffle(teams)\n",
    "print(teams)"
   ]
  },
  {
   "cell_type": "code",
   "execution_count": null,
   "id": "7621f54e-1cdb-41a4-9a3a-3df94e5b689f",
   "metadata": {},
   "outputs": [],
   "source": [
    "# Change chosen_freq to the desired channel_index\n",
    "\n",
    "chosen_freq=0"
   ]
  },
  {
   "cell_type": "code",
   "execution_count": null,
   "id": "5cc7bcff-1be7-401f-8da2-4bf6411c0785",
   "metadata": {},
   "outputs": [],
   "source": [
    "# The transmitter runs only this one:\n",
    "\n",
    "transmit_freq(chosen_freq)  "
   ]
  },
  {
   "cell_type": "code",
   "execution_count": null,
   "id": "b40a4b61-97ee-43bd-a236-c681ef592329",
   "metadata": {},
   "outputs": [],
   "source": [
    "# The receiver runs only this one:\n",
    "\n",
    "receive(chosen_freq)"
   ]
  },
  {
   "cell_type": "markdown",
   "id": "f72da5d7-c89f-46bb-8af6-b491131477cd",
   "metadata": {},
   "source": [
    "**Questions:** \n",
    "\n",
    "* What rounds did each team transmit in?\n",
    "* How many messages were delivered by each team? \n",
    "* What was the total number of messages delivered?\n",
    "* How did the total number of messages delivered compare to the last experiment?\n",
    "* Which of Activity 6.7 and Activity 6.8 are most like a real system? \n",
    "* How could real systems be incentivized to behave like those in Activity 6.7 instead of those in Activity 6.8?\n"
   ]
  },
  {
   "cell_type": "markdown",
   "id": "68c3bbdd-4b13-492d-9656-c611574d2ed7",
   "metadata": {},
   "source": [
    "## Review\n",
    "\n",
    "* Most current communication systems use *fixed channel assignment* in which each system is assigned a particular frequency band (in some area) that no one else is allowed to use. \n",
    "* Fixed channel assignments are wasteful when the assigned user doesn't use the band continuously.\n",
    "* In *dynamic spectrum access*, users choose channels and try to avoid disrupting each other's communications.\n",
    "* In *collaborative spectrum sharing*, users exchange information to help do a better job at dynamic spectrum access.\n",
    "* Methods are needed to incentivize cooperation when there are fewer channels available then there is systems that want to use those channels."
   ]
  }
 ],
 "metadata": {
  "kernelspec": {
   "display_name": "Python 3 (ipykernel)",
   "language": "python",
   "name": "python3"
  },
  "language_info": {
   "codemirror_mode": {
    "name": "ipython",
    "version": 3
   },
   "file_extension": ".py",
   "mimetype": "text/x-python",
   "name": "python",
   "nbconvert_exporter": "python",
   "pygments_lexer": "ipython3",
   "version": "3.7.4"
  }
 },
 "nbformat": 4,
 "nbformat_minor": 5
}
