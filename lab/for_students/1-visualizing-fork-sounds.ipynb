{
 "cells": [
  {
   "cell_type": "markdown",
   "id": "6884f06c-f78b-405b-860f-3aa47a48f670",
   "metadata": {},
   "source": [
    "# Getting to Know Audio Frequencies, Part 1: Visualizing Sounds of Tuning Forks\n",
    "\n",
    "**If you have access to one or more tuning forks, be sure to make digital recordings of those forks first by using the notebook `0-tuning-forks-record.ipynb`.**\n",
    "\n",
    "**Objectives:** \n",
    "* Plot recorded signals from different tuning forks and study them at different time scales.\n",
    "* Compare the recorded signals from tuning forks that are tuned to different tunes.\n",
    "\n",
    "**Required Materials**\n",
    "* Computer speakers\n",
    "* Python audio libraries noted below\n"
   ]
  },
  {
   "cell_type": "markdown",
   "id": "fec37a6b-ec8f-46b0-8618-e3e95e20561f",
   "metadata": {},
   "source": [
    "## Loading the Necessary Libraries\n",
    "\n",
    "Run each of the cells below, until you get to the  block titled **Recording the Tuning Fork(s)**. In  most cases, you can run a cell and advance to the next cell by clicking on the cell and pressing shift-Enter on the keyboard. The triangular \"play\" button in the widgets bar at the top of the notebook can also be used to run a selected cell."
   ]
  },
  {
   "cell_type": "code",
   "execution_count": null,
   "id": "18543776-6399-4e83-a832-fb620193a655",
   "metadata": {},
   "outputs": [],
   "source": [
    "# These are the minimum sound libraries required. \n",
    "\n",
    "import scipy.io.wavfile as wavfile\n",
    "import sounddevice as sd"
   ]
  },
  {
   "cell_type": "code",
   "execution_count": null,
   "id": "6ff19bc3-4ebf-48d8-849a-7af150556ecc",
   "metadata": {},
   "outputs": [],
   "source": [
    "# Library for visualizing the sound recordings\n",
    "\n",
    "import matplotlib.pyplot as plt\n",
    "%matplotlib inline"
   ]
  },
  {
   "cell_type": "code",
   "execution_count": null,
   "id": "91548c4a-fc18-48f7-845c-12e2e061bc65",
   "metadata": {},
   "outputs": [],
   "source": [
    "# Helper libraries\n",
    "\n",
    "import numpy as np\n",
    "import time\n"
   ]
  },
  {
   "cell_type": "code",
   "execution_count": null,
   "id": "9a775346-2ce0-457e-97dd-b143a526168f",
   "metadata": {},
   "outputs": [],
   "source": [
    "# The code in this block loads some elements for adding interactive \n",
    "# widgets to the code\n",
    "\n",
    "from ipywidgets import interact, interactive, fixed, interact_manual\n",
    "import ipywidgets as widgets\n",
    "import IPython.display as display\n",
    "\n"
   ]
  },
  {
   "cell_type": "markdown",
   "id": "9a3b2d11-1417-4637-afe0-1f56e011835e",
   "metadata": {},
   "source": [
    "## Selecting Audio Data\n",
    "\n",
    "If you recorded your own tuning forks, uncomment the appropriate lines in the cell below:\n",
    "\n"
   ]
  },
  {
   "cell_type": "code",
   "execution_count": null,
   "id": "dadc0ce1-0a7a-4444-bda9-ddee6e1a63b4",
   "metadata": {},
   "outputs": [],
   "source": [
    "OwnRecordings=[]\n",
    "\n",
    "# If you recorded your own tuning forks, uncomment ONE\n",
    "# of the lines below. If you did not record, then do\n",
    "# not change anything in this block.\n",
    "\n",
    "\n",
    "#OwnRecordings=['A', 'E']  # If you recorded an A and an E fork\n",
    "#OwnRecordings=['A']       # If you only recorded an A fork\n",
    "#OwnRecordings=['E']       # If you only recorded an E fork"
   ]
  },
  {
   "cell_type": "markdown",
   "id": "3bc696e1-bb75-4965-941f-c5eb0594f430",
   "metadata": {},
   "source": [
    "The following block will load the data for the different tuning forks. If you recorded your own forks, then that data will be loaded. Otherwise the following data will be used:\n",
    "\n",
    "* `beethovenA.jpg` is from a recording of Ludwig von Beethoven's tuning fork. You can download the full recording from [Soundcloud](https://soundcloud.com/the-british-library/beethovens-tuning-fork). Some information about Beethoven's tuning fork can be found at the [British Library](https://blogs.bl.uk/music/2017/03/beethovens-tuning-fork.html). Note that Beethoven's tuning fork plays a slightly different tone than today's standard A tuning forks, and we will demonstrate how to find out how to characterize that tone.\n",
    "* `forkE-UF.wav` is a recording of a D'Addario E 329.6 Hz tuning fork made by the University of Florida team."
   ]
  },
  {
   "cell_type": "code",
   "execution_count": null,
   "id": "c135f014-4445-4c46-9d23-c88f19d6b6e1",
   "metadata": {},
   "outputs": [],
   "source": [
    "if 'A' not in OwnRecordings:\n",
    "    rateA, dataA = wavfile.read('../audio_files/beethoven-forkA.wav')\n",
    "    dataA=dataA[:,0]\n",
    "if 'E' not in OwnRecordings:\n",
    "    rateE, dataE = wavfile.read('../audio_files/forkE-UF.wav')"
   ]
  },
  {
   "cell_type": "markdown",
   "id": "4e297082-7749-4d39-a4cb-d81d52ee29bb",
   "metadata": {},
   "source": [
    "## Visualizing the Data (Time Domain)\n",
    "\n",
    "We can plot the sampled data to look at what the sound pressure at the microphone looks like. \n",
    "\n",
    "### A Tuning Fork\n",
    "\n",
    "Let's start by plotting the whole sample for the A tuning fork:"
   ]
  },
  {
   "cell_type": "code",
   "execution_count": null,
   "id": "6a9c9911-6c62-438c-88a9-b4dd98143a46",
   "metadata": {},
   "outputs": [],
   "source": [
    "plt.plot(dataA);"
   ]
  },
  {
   "cell_type": "markdown",
   "id": "ee0aff87-e62f-4ced-84ab-3aaad3e97b47",
   "metadata": {},
   "source": [
    "Because there are over 130,000 samples plotted into that small space, it is hard to understand what the signal looks like. We can tell that the intensity is decreasing with time, which we can also hear with our ears -- the tuning fork's sound gets quieter over time.\n",
    "\n",
    "To better understand what the signal looks like, use the widgets below to look at what the signal looks like at different times and zooms (setting a duration < 3s means that we are zooming in to look at a smaller part of the signal):"
   ]
  },
  {
   "cell_type": "code",
   "execution_count": null,
   "id": "24f382f0-d98a-404d-95d2-72ed09833e62",
   "metadata": {},
   "outputs": [],
   "source": [
    "\n",
    "times = np.linspace(0, 3, len(dataA) )\n",
    "def time_zoom( duration=0.18, start_time=0):\n",
    "    start_samples=int(start_time*len(dataA)/3)\n",
    "    duration_samples=int(duration/3*len(dataA))\n",
    "    end_samples=start_samples+duration_samples\n",
    "    plt.plot(times[start_samples: end_samples], dataA[start_samples: end_samples] )\n",
    "    plt.xlabel('Time (s)')\n",
    "    plt.ylabel('Relative sound pressure')\n",
    "    plt.show();\n",
    "    return()\n",
    "interact(time_zoom, duration=(0.01,1.5,0.01), start_time=(0, 1.5, 0.05));\n",
    "\n",
    "\n"
   ]
  },
  {
   "cell_type": "markdown",
   "id": "47eef6a4-f3c5-42e1-8a2c-28486d1fd5fd",
   "metadata": {},
   "source": [
    "Here is the signal in the first 0.01s:"
   ]
  },
  {
   "cell_type": "code",
   "execution_count": null,
   "id": "5e0962c1-07aa-45bd-b9d5-f4f416ea129d",
   "metadata": {},
   "outputs": [],
   "source": [
    "times = np.linspace(0, 0.01, 441)\n",
    "plt.plot(times, dataA[:441])\n",
    "plt.xlabel('Time (s)')\n",
    "plt.ylabel('Relative sound pressure');"
   ]
  },
  {
   "cell_type": "markdown",
   "id": "67280158-b8c4-403f-a5a0-2a780fa26901",
   "metadata": {},
   "source": [
    "The resulting signal follows a very distinctive pattern -- \n",
    "\n",
    "**Question 1.1: Does anyone know what this type of signal or function is called?**"
   ]
  },
  {
   "cell_type": "markdown",
   "id": "462c88ce-57f3-4a4d-b8c1-51defecf27a9",
   "metadata": {},
   "source": [
    "### E Tuning Fork \n",
    "\n",
    "Let's see what the signal for the E tuning fork  looks like:"
   ]
  },
  {
   "cell_type": "code",
   "execution_count": null,
   "id": "85560e93-7da6-46fd-8421-93df045450eb",
   "metadata": {},
   "outputs": [],
   "source": [
    "plt.plot(dataE);"
   ]
  },
  {
   "cell_type": "markdown",
   "id": "df7a1051-1136-42ae-b9c9-9b7012e1de78",
   "metadata": {},
   "source": [
    "As before, use the sliders to look at the signal with different zooms and at different times:"
   ]
  },
  {
   "cell_type": "code",
   "execution_count": null,
   "id": "59c5a242-5906-457e-836e-2f51821cdd3c",
   "metadata": {},
   "outputs": [],
   "source": [
    "\n",
    "times = np.linspace(0, 3, len(dataA) )\n",
    "def time_zoom( duration=0.18, start_time=0):\n",
    "    start_samples=int(start_time*len(dataE)/3)\n",
    "    duration_samples=int(duration/3*len(dataE))\n",
    "    end_samples=start_samples+duration_samples\n",
    "    plt.plot(times[start_samples: end_samples], dataE[start_samples: end_samples] )\n",
    "    plt.xlabel('Time (s)')\n",
    "    plt.ylabel('Relative sound pressure')\n",
    "    plt.show();\n",
    "    return()\n",
    "interact(time_zoom, duration=(0.01,1.5,0.01), start_time=(0, 1.5, 0.05));\n",
    "\n",
    "\n"
   ]
  },
  {
   "cell_type": "markdown",
   "id": "8eaf093c-b42d-47d7-9bc1-f99c56d2bb4e",
   "metadata": {},
   "source": [
    "Here is the data for the E tuning fork in the first 0.01s:"
   ]
  },
  {
   "cell_type": "code",
   "execution_count": null,
   "id": "5c99d219-0db9-4497-9262-33d3a4b6b223",
   "metadata": {},
   "outputs": [],
   "source": [
    "times = np.linspace(0, 0.01, 441)\n",
    "plt.plot(times, dataE[:441])\n",
    "plt.xlabel('Time (s)')\n",
    "plt.ylabel('Relative sound pressure');"
   ]
  },
  {
   "cell_type": "markdown",
   "id": "95877dc4-56a0-4dbe-b7ae-afb801cd8e68",
   "metadata": {},
   "source": [
    "We again see a repeating wave, but if you are using the UF data, you will notice that the repeating wave has more variations than before. The reason for this is that the recording is not as careful as the one of Beethoven's tuning fork. Small, fast amplitude fluctuations are caused the low level of the tuning fork sound compared to noise in the environment, and large changes in amplitude are caused by variations in the distance between the tuning fork and the microphone."
   ]
  },
  {
   "cell_type": "markdown",
   "id": "5207e448-b88c-4714-8b6c-0c556cac12f3",
   "metadata": {},
   "source": [
    "## Comparing Audio Signals for Tuning Forks with Different Tunings\n",
    "\n",
    "Now let's compare the audio signals for Beethoven's tuning fork and the UF \"E\" tuning fork. Let's first play them back-to-back, so that you can hear the difference in the tones. When you run the cell below, you will first hear Beethoven's tuning fork and then the UF \"E\" tuning fork:\n",
    "\n",
    "\n"
   ]
  },
  {
   "cell_type": "code",
   "execution_count": null,
   "id": "2f9e38ef-c01b-4777-adc2-0460ff6d01f4",
   "metadata": {},
   "outputs": [],
   "source": [
    "print(\"Beethoven:\")\n",
    "sd.play(dataA, rateA)\n",
    "time.sleep(3)\n",
    "print()\n",
    "print(\"UF E:\")\n",
    "sd.play(dataE, rateE)\n",
    "\n",
    "\n"
   ]
  },
  {
   "cell_type": "markdown",
   "id": "dcb81c82-7258-4e9d-b5e6-a06f55c593fd",
   "metadata": {},
   "source": [
    "Let's see if we can see what feature of these signals is responsible for the difference in tones by \n",
    "plotting the two signals on the same plot. "
   ]
  },
  {
   "cell_type": "code",
   "execution_count": null,
   "id": "c9ced8d3-3b8a-42af-86a6-d4857ac5eee8",
   "metadata": {},
   "outputs": [],
   "source": [
    "times = np.linspace(0, 0.01, 441)\n",
    "startA=52\n",
    "startE=5080\n",
    "plt.plot(times, dataA[startA:startA+441], 'k')\n",
    "plt.plot(times, 1.9*dataE[startE:startE+441]-4500, 'b--')\n",
    "plt.xlabel('Relative Time (s)')\n",
    "plt.ylabel('Relative sound pressure')"
   ]
  },
  {
   "cell_type": "markdown",
   "id": "52b595a4-2c6b-4b1d-9814-82b9e922f44d",
   "metadata": {},
   "source": [
    "**QUESTION 1.3: What is different between the plots shown of the \"Beethoven A\" and \"UF E\" waves?**"
   ]
  },
  {
   "cell_type": "markdown",
   "id": "6aba8fc7-262f-4c1f-9e91-294cd5c1b1d7",
   "metadata": {},
   "source": [
    "Note that each of these tones is composed of a repeating pattern. If we select a portion of the signal that can be repeated back-to-back to create the whole signal, then that portion is called one *cycle* of the signal. Here is one cycle from Beethoven's tuning fork:"
   ]
  },
  {
   "cell_type": "code",
   "execution_count": null,
   "id": "c3ed28d8-d25f-4adb-a479-453406c264c7",
   "metadata": {},
   "outputs": [],
   "source": [
    "length=0.00224\n",
    "times = np.linspace(0, length, int(44100*length))\n",
    "startA=52\n",
    "plt.plot(times, dataA[startA:startA+int(44100*length)])\n",
    "plt.grid()\n",
    "plt.xlabel('Relative Time (s)')\n",
    "plt.ylabel('Relative sound pressure')"
   ]
  },
  {
   "cell_type": "markdown",
   "id": "c52260f6-eedb-417e-a41a-350f62581fbe",
   "metadata": {},
   "source": [
    "And here is one cycle from the UF E tuning fork:"
   ]
  },
  {
   "cell_type": "code",
   "execution_count": null,
   "id": "e722db32-4a40-4a71-957a-4c953ce3bd27",
   "metadata": {},
   "outputs": [],
   "source": [
    "length=0.003085\n",
    "times = np.linspace(0, length, int(44100*length))\n",
    "startE=5080\n",
    "plt.plot(times, dataE[startE:startE+int(44100*length)]-2000)\n",
    "plt.grid()\n",
    "plt.xlabel('Relative Time (s)')\n",
    "plt.ylabel('Relative sound pressure')"
   ]
  },
  {
   "cell_type": "markdown",
   "id": "f398d1de-64c6-4d52-844e-dc7520c97a7b",
   "metadata": {},
   "source": [
    "**Question 1.4: Ignoring the small fluctuations in the recording, what do you notice that is different about the two plots of individual cycles of the \"Beethoven A\" and \"UF E\" waves?**"
   ]
  },
  {
   "cell_type": "markdown",
   "id": "63ddf12a-27d3-46ba-ac65-b23f044b767c",
   "metadata": {
    "tags": []
   },
   "source": [
    "## Making Waves"
   ]
  },
  {
   "cell_type": "markdown",
   "id": "df4db337-1011-4e4f-b547-d29b81092abe",
   "metadata": {},
   "source": [
    "**Question 1.5: Circle the appropriate relation in each sentence:**\n",
    "\n",
    "* Beethoven's tuning fork sounded higher/lower than the UF E tuning fork.\n",
    "\n",
    "* For a fixed observation time of 0.01 s, we observed that Beethoven's tuning had more/less cycles than the UF E tuning fork.\n",
    "\n",
    "* One cycle of the Beethoven's tuning fork took more/less time than one cycle of the UF E tuning fork."
   ]
  },
  {
   "cell_type": "markdown",
   "id": "8cf0a6a1-1087-484e-8297-719c31ec737d",
   "metadata": {},
   "source": [
    "Based on these observations, we may guess that different sinusoids (in terms of the length of one cycle  or the number of cycles in some observation time) result in different sounding tones (higher or lower).\n",
    "\n",
    "The following code generates sinusoids, where the number of cycles per second is specified using a slider. Adjust the slider to different values and determine the effect on the pitch of the audio signal: "
   ]
  },
  {
   "cell_type": "code",
   "execution_count": null,
   "id": "cf716e6e-76bf-4ade-ba6d-f0d1e4947d19",
   "metadata": {},
   "outputs": [],
   "source": [
    "duration = 1\n",
    "rate = 44100\n",
    "times = np.linspace(0, 1, rate*duration )\n",
    "def play_tone( cycle_rate=1000):\n",
    "    duration_samples=int(cycle_rate*duration)\n",
    "    signal=np.sin(2*np.pi*cycle_rate*times)\n",
    "    plt.plot(times[:441], signal[:441])\n",
    "    plt.xlabel('Time (s)')\n",
    "    plt.ylabel('Relative sound pressure')\n",
    "    plt.show();\n",
    "    sd.play(signal, rate)\n",
    "    return()\n",
    "interact(play_tone, cycle_rate=(100, 4000, 100));\n",
    "\n",
    "\n"
   ]
  },
  {
   "cell_type": "markdown",
   "id": "fa974667-1c5f-4faf-affb-aa21ba8e8fe9",
   "metadata": {},
   "source": [
    "**Question 1.6: How does the `cycle_rate` parameter effect the pitch of the audio signal?**"
   ]
  }
 ],
 "metadata": {
  "kernelspec": {
   "display_name": "Python 3 (ipykernel)",
   "language": "python",
   "name": "python3"
  },
  "language_info": {
   "codemirror_mode": {
    "name": "ipython",
    "version": 3
   },
   "file_extension": ".py",
   "mimetype": "text/x-python",
   "name": "python",
   "nbconvert_exporter": "python",
   "pygments_lexer": "ipython3",
   "version": "3.7.4"
  }
 },
 "nbformat": 4,
 "nbformat_minor": 5
}
