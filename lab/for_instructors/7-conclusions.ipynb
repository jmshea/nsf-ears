{
 "cells": [
  {
   "cell_type": "markdown",
   "id": "6884f06c-f78b-405b-860f-3aa47a48f670",
   "metadata": {
    "tags": []
   },
   "source": [
    "# Part 7. Conclusions\n",
    "\n",
    "Discuss the following questions and write down the best responses:\n",
    "* What are the potential advantages of dynamic spectrum sharing versus a fixed channel allocation?\n",
    "* What are the challenges of dynamic spectrum sharing in comparison to a fixed channel allocation?\n",
    "* How can a collaboration channel help with dynamic spectrum sharing? What are potential disadvantages of using a collaboration channel?\n",
    "* What happens when their are more users or systems than their are available channel resources (i.e., frequencies to transmit on). How can these users or systems be incentivized to share the available frequencies and not interfere with each other? \n",
    "* Which way do you think is better for future wireless communication systems: fixed channel allocation or dynamic spectrum access? Why do you say that?\n"
   ]
  }
 ],
 "metadata": {
  "kernelspec": {
   "display_name": "Python 3 (ipykernel)",
   "language": "python",
   "name": "python3"
  },
  "language_info": {
   "codemirror_mode": {
    "name": "ipython",
    "version": 3
   },
   "file_extension": ".py",
   "mimetype": "text/x-python",
   "name": "python",
   "nbconvert_exporter": "python",
   "pygments_lexer": "ipython3",
   "version": "3.7.4"
  }
 },
 "nbformat": 4,
 "nbformat_minor": 5
}
