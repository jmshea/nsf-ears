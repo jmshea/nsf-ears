{
 "cells": [
  {
   "cell_type": "markdown",
   "id": "6884f06c-f78b-405b-860f-3aa47a48f670",
   "metadata": {},
   "source": [
    "# Scanning the Radio Spectrum\n",
    "**Objectives:** \n",
    "* Use an inexpensive software-defined radio to scan the radio spectrum\n",
    "* Learn about different frequency bands and the types of wireless communication systems using those bands\n",
    "* Learn which bands are occupied in the geographic region around the lab\n",
    "\n",
    "**Required Materials**\n",
    "* DVB-T USB dongle, such as NooElec NESDR Mini 2, with antenna\n",
    "* USB-A to USB-C adapter if needed\n",
    "* gqrx software\n",
    "* RTLSDR-Scanner software (optional, may be hard to get working)\n",
    "* Computer speakers\n"
   ]
  },
  {
   "cell_type": "markdown",
   "id": "e4ac1367-c084-4b24-a4c4-859837670820",
   "metadata": {},
   "source": [
    "Frequency division is widely used for wireless communications. In fact, most wireless communication systems are allocated particular frequency bands (ranges of frequency) where they are allowed to operate. In this part of the lab,  we will use a software-defined radio system to observe two different frequency bands and identify the types of signals operating there. We will see how different parts of the frequency band are used by different users in a given area.\n",
    "\n",
    "\n",
    "## FM Radio\n",
    "\n",
    "FM radio stations take their audio signals and expand them to fit within a band that is 200 kHz wide (compare with the 20 kHz that people can hear). Radio stations are allocated a 200 kHz wide band that can't be used with other radio stations in a region. In the US, these bands fill the radio frequency from 87.8 MHz to 108 MHz, where 1 MHz = 1,000,000 Hz. We refer to these bands by their center frequencies. The first band is from 87.8 MHz to 88 MHz, and so its center frequency is 87.9 MHz. The next channel is 200 kHz higher, with a center frequency of 88.1 MHz, and so on, up to 107.9 MHz. \n",
    "\n",
    "**Activity:** The lab instructor will demonstrate how to start the rtlsdr-scanner software, scan the radio spectrum in the FM band, and find which frequency bands have strong signals. Then the instructor will demonstrate how use the \"FM demodulator\" in the gqrx software to recover the audio signals from different FM stations.\n",
    "\n",
    "Here is an example output from RTLSDR-Scanner that shows a scan of the FM frequency band in Gainesville, Florida in 2021:\n",
    "\n",
    "![Scan of FM Frequency Band using RTLSDR-Scanner](fm-scan-2021.jpg)\n",
    "\n",
    "We can see that the strongest signal is at 89.1~MHz. An internet search for \"89.1 Gainesville\" indicates that this is WUFT 89.1, the University of Florida's public broadcasting station: [WUFT Radio](https://www.wuft.org/blog/category/radio/)\n",
    "\n",
    "**Activity 4.1 Identify at least two other strong radio signals. Find out the four-letter ID and type of radio station.**\n",
    "\n",
    "The particular radio stations will depend on the location at which this experiment is performed. If you are not able to perform this experiment in your lab and have to use the provided images, students may find:\n",
    "* 90.5 MHz  - WYFB - Bible Broadcasting Network\n",
    "* 91.7 MHz  - WJLF - The JOY FM\n",
    "* 103.7 MHz - WRUF - The Gator\n",
    "* 105.1 MHz - WQXK - K105 K-Country\n",
    "\n",
    "among others\n"
   ]
  },
  {
   "cell_type": "markdown",
   "id": "e93e2658-6752-4df9-9586-037338717941",
   "metadata": {},
   "source": [
    "## Cellular Band\n",
    "\n",
    "There is a cellular (mobile telephony) band around 850 Mhz. Communications from mobile phones to the  base station use 824 -- 849 MHz. Communications from base stations to mobile phones use 869 -- 894 MHz. Since base stations use much more power, it is usually most interesting to explore the 869 -- 894 MHz band.\n",
    "\n",
    "**Activity** Use RTLSDR-Scanner to scan the signals in the 869--894 MHz cellular band. The 4th generation cellular phone system, called LTE, uses channels of width 1.4, 3, 5, and 10 MHz in this band. Below is an example scan from Gainesville, FL in 2021 that shows some of these wideband signals:\n",
    "\n",
    "![Scan of the 869--894 MHz cellular band](cellular-downlink.jpg)\n",
    "\n",
    "**Activity 4.2 Estimate the center frequency and the bandwidth (the amount of frequency spanned by the signal) for several of the signals observed.**\n",
    "\n",
    "If using a local measurement, the result may vary. If using the supplied image, some possible answers include:\n",
    "* Band at 869-874 MHz, center frequency is around 871.5 MHz, bandwidth is around 5 MHz. Probably and LTE or 5G cellular band.\n",
    "* Band at 874-879 MHz, center frequency is around 876.5 MHz, bandwidth is around 5 MHz. Probably and LTE or 5G cellular band.\n",
    "* Band at 880-890 MHz, center frequency is around 885 MHz, bandwidth is around 10 MHz. Probably LTE or 5G cellular band(s) -- likely 2 different 5 MHz bands that can be aggregated and used as one wider band."
   ]
  }
 ],
 "metadata": {
  "kernelspec": {
   "display_name": "Python 3 (ipykernel)",
   "language": "python",
   "name": "python3"
  },
  "language_info": {
   "codemirror_mode": {
    "name": "ipython",
    "version": 3
   },
   "file_extension": ".py",
   "mimetype": "text/x-python",
   "name": "python",
   "nbconvert_exporter": "python",
   "pygments_lexer": "ipython3",
   "version": "3.7.4"
  }
 },
 "nbformat": 4,
 "nbformat_minor": 5
}
